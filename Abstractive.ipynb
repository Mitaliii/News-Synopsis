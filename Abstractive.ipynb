{
 "cells": [
  {
   "cell_type": "code",
   "execution_count": 8,
   "metadata": {},
   "outputs": [],
   "source": [
    "import re\n",
    "import nltk\n",
    "import string\n",
    "from newspaper import Article"
   ]
  },
  {
   "cell_type": "code",
   "execution_count": 9,
   "metadata": {},
   "outputs": [],
   "source": [
    "def get_model():\n",
    "    url = utext.get('1.0',\"end\").strip()\n",
    "    article = Article(url)\n",
    "    article.download()\n",
    "    article.parse()\n",
    "    article.nlp()\n",
    "    title.config(state=\"normal\")\n",
    "    summary.config(state=\"normal\")\n",
    "    \n",
    "    title.delete('1.0','end')\n",
    "    title.insert('1.0',article.title)\n",
    "\n",
    "    summary.delete('1.0','end')\n",
    "    summary.insert('1.0',get_summary())\n",
    "    \n",
    "    title.config(state=\"disabled\")\n",
    "    summary.config(state=\"disabled\")"
   ]
  },
  {
   "cell_type": "code",
   "execution_count": 18,
   "metadata": {},
   "outputs": [],
   "source": [
    "from tkinter import *\n",
    "import tkinter as tk\n",
    "import tkinter.font as font\n",
    "\n",
    "root =  tk.Tk()\n",
    "root.title(\"News Summary\")\n",
    "root.geometry(\"800x800\")\n",
    "root['background'] = 'seashell3'\n",
    "                   \n",
    "#get URL\n",
    "myFont = font.Font(family='Helvetica', size=15, weight='bold')\n",
    "ulabel = tk.Label(root,text=\"Please Enter Your URL\",fg='white',bg='seashell3')\n",
    "ulabel['font'] = myFont\n",
    "ulabel.pack()       \n",
    "\n",
    "utext = tk.Text(root,height=1,width=175)\n",
    "utext.pack()\n",
    "\n",
    "#get title\n",
    "tlabel = tk.Label(root,text=\"Title\",fg='white',bg='seashell3')\n",
    "tlabel['font'] = myFont\n",
    "tlabel.pack()\n",
    "\n",
    "title = tk.Text(root,height=2,width=175)\n",
    "title.config(state='disabled',bg='white')\n",
    "title.pack()\n",
    "\n",
    "#get summary\n",
    "slabel = tk.Label(root,text=\"Summary\",fg='white',bg='seashell3')\n",
    "slabel['font'] = myFont\n",
    "slabel.pack()\n",
    "\n",
    "\n",
    "summary = tk.Text(root,height=15,width=175)\n",
    "summary.config(state='disabled',bg='white')\n",
    "summary.pack()\n",
    "\n",
    "bfont = font.Font(family='Helvetica', size=24, weight='bold')\n",
    "btn = tk.Button(root,text=\"Summarize\",bg='bisque2',command = get_model)\n",
    "btn['font'] = bfont\n",
    "btn.pack()"
   ]
  },
  {
   "cell_type": "code",
   "execution_count": 4,
   "metadata": {},
   "outputs": [
    {
     "name": "stderr",
     "output_type": "stream",
     "text": [
      "All model checkpoint layers were used when initializing TFT5ForConditionalGeneration.\n",
      "\n",
      "All the layers of TFT5ForConditionalGeneration were initialized from the model checkpoint at t5-small.\n",
      "If your task is similar to the task the model of the checkpoint was trained on, you can already use TFT5ForConditionalGeneration for predictions without further training.\n"
     ]
    }
   ],
   "source": [
    "import sentencepiece\n",
    "import tensorflow as tf\n",
    "from transformers import T5Tokenizer, TFT5ForConditionalGeneration\n",
    "\n",
    "model = TFT5ForConditionalGeneration.from_pretrained('t5-small')\n",
    "tokenizer = T5Tokenizer.from_pretrained('t5-small')\n",
    "\n",
    "def get_summary():  \n",
    "    url = utext.get('1.0',\"end\").strip()\n",
    "    article = Article(url)\n",
    "    article.download()\n",
    "    article.parse()\n",
    "    article.nlp()\n",
    "    text = article.text\n",
    "    Text = text.strip().replace(\"\\n\",\"\")\n",
    "    Preprocessed_text = \"summarize: \"+Text\n",
    "    Text = text.strip().replace(\"\\n\",\"\")\n",
    "    Preprocessed_text = \"summarize: \"+Text\n",
    "    tokens_input = tokenizer.encode(Preprocessed_text,return_tensors=\"tf\")\n",
    "    summary_ids = model.generate(tokens_input,\n",
    "                                 min_length=60,\n",
    "                                 max_length=80,\n",
    "                                 )\n",
    "    summarize = tokenizer.decode(summary_ids[0])\n",
    "    return summarize"
   ]
  },
  {
   "cell_type": "code",
   "execution_count": 19,
   "metadata": {},
   "outputs": [],
   "source": [
    "root.mainloop()"
   ]
  }
 ],
 "metadata": {
  "kernelspec": {
   "display_name": "Python 3",
   "language": "python",
   "name": "python3"
  },
  "language_info": {
   "codemirror_mode": {
    "name": "ipython",
    "version": 3
   },
   "file_extension": ".py",
   "mimetype": "text/x-python",
   "name": "python",
   "nbconvert_exporter": "python",
   "pygments_lexer": "ipython3",
   "version": "3.8.3"
  }
 },
 "nbformat": 4,
 "nbformat_minor": 5
}
